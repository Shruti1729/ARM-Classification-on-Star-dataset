{
 "cells": [
  {
   "cell_type": "code",
   "execution_count": 1,
   "metadata": {},
   "outputs": [
    {
     "name": "stdout",
     "output_type": "stream",
     "text": [
      "package 'arules' successfully unpacked and MD5 sums checked\n"
     ]
    },
    {
     "name": "stderr",
     "output_type": "stream",
     "text": [
      "Warning message:\n",
      "\"cannot remove prior installation of package 'arules'\"Warning message in file.copy(savedcopy, lib, recursive = TRUE):\n",
      "\"problem copying C:\\Users\\Shruti\\Anaconda3\\Lib\\R\\library\\00LOCK\\arules\\libs\\x64\\arules.dll to C:\\Users\\Shruti\\Anaconda3\\Lib\\R\\library\\arules\\libs\\x64\\arules.dll: Permission denied\"Warning message:\n",
      "\"restored 'arules'\""
     ]
    },
    {
     "name": "stdout",
     "output_type": "stream",
     "text": [
      "\n",
      "The downloaded binary packages are in\n",
      "\tC:\\Users\\Shruti\\AppData\\Local\\Temp\\RtmpymmxQf\\downloaded_packages\n"
     ]
    },
    {
     "name": "stderr",
     "output_type": "stream",
     "text": [
      "Warning message:\n",
      "\"package 'arules' was built under R version 3.6.3\"Loading required package: Matrix\n",
      "\n",
      "Attaching package: 'arules'\n",
      "\n",
      "The following objects are masked from 'package:base':\n",
      "\n",
      "    abbreviate, write\n",
      "\n"
     ]
    }
   ],
   "source": [
    "install.packages('arules')\n",
    "library(arules)\n",
    "star_data = read.csv('eclat_1.csv', header = FALSE)"
   ]
  },
  {
   "cell_type": "code",
   "execution_count": 2,
   "metadata": {},
   "outputs": [],
   "source": [
    "star_data = read.transactions('eclat_1.csv', sep = ',', rm.duplicates = TRUE)"
   ]
  },
  {
   "cell_type": "code",
   "execution_count": 3,
   "metadata": {},
   "outputs": [
    {
     "data": {
      "text/plain": [
       "transactions as itemMatrix in sparse format with\n",
       " 240 rows (elements/itemsets/transactions) and\n",
       " 38 columns (items) and a density of 0.1513158 \n",
       "\n",
       "most frequent items:\n",
       "    red       M    blue       B       a (Other) \n",
       "    112     111      55      46      40    1016 \n",
       "\n",
       "element (itemset/transaction) length distribution:\n",
       "sizes\n",
       "  5   6 \n",
       " 60 180 \n",
       "\n",
       "   Min. 1st Qu.  Median    Mean 3rd Qu.    Max. \n",
       "   5.00    5.75    6.00    5.75    6.00    6.00 \n",
       "\n",
       "includes extended item information - examples:\n",
       "  labels\n",
       "1      a\n",
       "2      A\n",
       "3      b"
      ]
     },
     "metadata": {},
     "output_type": "display_data"
    }
   ],
   "source": [
    "summary(star_data)"
   ]
  },
  {
   "cell_type": "code",
   "execution_count": 4,
   "metadata": {},
   "outputs": [
    {
     "data": {
      "text/html": [
       "0.025"
      ],
      "text/latex": [
       "0.025"
      ],
      "text/markdown": [
       "0.025"
      ],
      "text/plain": [
       "[1] 0.025"
      ]
     },
     "metadata": {},
     "output_type": "display_data"
    },
    {
     "name": "stdout",
     "output_type": "stream",
     "text": [
      "Apriori\n",
      "\n",
      "Parameter specification:\n",
      " confidence minval smax arem  aval originalSupport maxtime support minlen\n",
      "        0.5    0.1    1 none FALSE            TRUE       5   0.025      2\n",
      " maxlen target  ext\n",
      "     10  rules TRUE\n",
      "\n",
      "Algorithmic control:\n",
      " filter tree heap memopt load sort verbose\n",
      "    0.1 TRUE TRUE  FALSE TRUE    2    TRUE\n",
      "\n",
      "Absolute minimum support count: 6 \n",
      "\n",
      "set item appearances ...[0 item(s)] done [0.00s].\n",
      "set transactions ...[38 item(s), 240 transaction(s)] done [0.00s].\n",
      "sorting and recoding items ... [33 item(s)] done [0.00s].\n",
      "creating transaction tree ... done [0.00s].\n",
      "checking subsets of size 1 2 3 4 5 6 done [0.00s].\n",
      "writing ... [1485 rule(s)] done [0.00s].\n",
      "creating S4 object  ... done [0.00s].\n"
     ]
    }
   ],
   "source": [
    "6/240\n",
    "rules = apriori(data = star_data, parameter = list(support = 0.025, conf=0.5, minlen =2))"
   ]
  },
  {
   "cell_type": "code",
   "execution_count": 10,
   "metadata": {},
   "outputs": [
    {
     "name": "stdout",
     "output_type": "stream",
     "text": [
      "     lhs        rhs     support   confidence coverage  lift     count\n",
      "[1]  {M}     => {red}   0.4583333 0.9909910  0.4625000 2.123552 110  \n",
      "[2]  {red}   => {M}     0.4583333 0.9821429  0.4666667 2.123552 110  \n",
      "[3]  {three} => {o}     0.1666667 1.0000000  0.1666667 6.000000  40  \n",
      "[4]  {o}     => {three} 0.1666667 1.0000000  0.1666667 6.000000  40  \n",
      "[5]  {three} => {j}     0.1666667 1.0000000  0.1666667 6.000000  40  \n",
      "[6]  {j}     => {three} 0.1666667 1.0000000  0.1666667 6.000000  40  \n",
      "[7]  {o}     => {j}     0.1666667 1.0000000  0.1666667 6.000000  40  \n",
      "[8]  {j}     => {o}     0.1666667 1.0000000  0.1666667 6.000000  40  \n",
      "[9]  {two}   => {g}     0.1666667 1.0000000  0.1666667 6.000000  40  \n",
      "[10] {g}     => {two}   0.1666667 1.0000000  0.1666667 6.000000  40  \n"
     ]
    }
   ],
   "source": [
    "inspect(sort(rules, by = 'support')[1:10])"
   ]
  },
  {
   "cell_type": "code",
   "execution_count": null,
   "metadata": {},
   "outputs": [],
   "source": []
  }
 ],
 "metadata": {
  "kernelspec": {
   "display_name": "R",
   "language": "R",
   "name": "ir"
  },
  "language_info": {
   "codemirror_mode": "r",
   "file_extension": ".r",
   "mimetype": "text/x-r-source",
   "name": "R",
   "pygments_lexer": "r",
   "version": "3.6.1"
  }
 },
 "nbformat": 4,
 "nbformat_minor": 2
}
