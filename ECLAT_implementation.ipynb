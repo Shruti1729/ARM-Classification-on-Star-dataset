{
 "cells": [
  {
   "cell_type": "code",
   "execution_count": 1,
   "metadata": {},
   "outputs": [
    {
     "name": "stdout",
     "output_type": "stream",
     "text": [
      "package 'arules' successfully unpacked and MD5 sums checked\n",
      "\n",
      "The downloaded binary packages are in\n",
      "\tC:\\Users\\Shruti\\AppData\\Local\\Temp\\RtmpkrTc9m\\downloaded_packages\n"
     ]
    },
    {
     "name": "stderr",
     "output_type": "stream",
     "text": [
      "Warning message:\n",
      "\"package 'arules' was built under R version 3.6.3\"Loading required package: Matrix\n",
      "\n",
      "Attaching package: 'arules'\n",
      "\n",
      "The following objects are masked from 'package:base':\n",
      "\n",
      "    abbreviate, write\n",
      "\n"
     ]
    }
   ],
   "source": [
    "install.packages('arules')\n",
    "library(arules)\n",
    "star_data = read.csv('eclat_1.csv', header = FALSE)"
   ]
  },
  {
   "cell_type": "code",
   "execution_count": 2,
   "metadata": {},
   "outputs": [],
   "source": [
    "star_data = read.transactions('eclat_1.csv', sep = ',', rm.duplicates = TRUE)"
   ]
  },
  {
   "cell_type": "code",
   "execution_count": 3,
   "metadata": {},
   "outputs": [
    {
     "data": {
      "text/plain": [
       "transactions as itemMatrix in sparse format with\n",
       " 240 rows (elements/itemsets/transactions) and\n",
       " 38 columns (items) and a density of 0.1513158 \n",
       "\n",
       "most frequent items:\n",
       "    red       M    blue       B       a (Other) \n",
       "    112     111      55      46      40    1016 \n",
       "\n",
       "element (itemset/transaction) length distribution:\n",
       "sizes\n",
       "  5   6 \n",
       " 60 180 \n",
       "\n",
       "   Min. 1st Qu.  Median    Mean 3rd Qu.    Max. \n",
       "   5.00    5.75    6.00    5.75    6.00    6.00 \n",
       "\n",
       "includes extended item information - examples:\n",
       "  labels\n",
       "1      a\n",
       "2      A\n",
       "3      b"
      ]
     },
     "metadata": {},
     "output_type": "display_data"
    }
   ],
   "source": [
    "summary(star_data)"
   ]
  },
  {
   "cell_type": "code",
   "execution_count": 9,
   "metadata": {},
   "outputs": [
    {
     "data": {
      "image/png": "[encoded data removed]",
      "text/plain": [
       "plot without title"
      ]
     },
     "metadata": {},
     "output_type": "display_data"
    }
   ],
   "source": [
    "itemFrequencyPlot(star_data, topN = 30)"
   ]
  },
  {
   "cell_type": "code",
   "execution_count": 7,
   "metadata": {},
   "outputs": [
    {
     "data": {
      "text/html": [
       "0.025"
      ],
      "text/latex": [
       "0.025"
      ],
      "text/markdown": [
       "0.025"
      ],
      "text/plain": [
       "[1] 0.025"
      ]
     },
     "metadata": {},
     "output_type": "display_data"
    },
    {
     "name": "stdout",
     "output_type": "stream",
     "text": [
      "Eclat\n",
      "\n",
      "parameter specification:\n",
      " tidLists support minlen maxlen            target  ext\n",
      "    FALSE   0.025      2     10 frequent itemsets TRUE\n",
      "\n",
      "algorithmic control:\n",
      " sparse sort verbose\n",
      "      7   -2    TRUE\n",
      "\n",
      "Absolute minimum support count: 6 \n",
      "\n",
      "create itemset ... \n",
      "set transactions ...[38 item(s), 240 transaction(s)] done [0.00s].\n",
      "sorting and recoding items ... [33 item(s)] done [0.00s].\n",
      "creating bit matrix ... [33 row(s), 240 column(s)] done [0.00s].\n",
      "writing  ... [596 set(s)] done [0.00s].\n",
      "Creating S4 object  ... done [0.00s].\n"
     ]
    }
   ],
   "source": [
    "6/240\n",
    "rules = eclat(data = star_data, parameter = list(support = 0.025, minlen =2))"
   ]
  },
  {
   "cell_type": "code",
   "execution_count": 15,
   "metadata": {},
   "outputs": [
    {
     "name": "stdout",
     "output_type": "stream",
     "text": [
      "     items       support   transIdenticalToItemsets count\n",
      "[1]  {M,red}     0.4583333 110                      110  \n",
      "[2]  {j,o,three} 0.1666667  40                       40  \n",
      "[3]  {j,three}   0.1666667  40                       40  \n",
      "[4]  {j,o}       0.1666667  40                       40  \n",
      "[5]  {o,three}   0.1666667  40                       40  \n",
      "[6]  {g,two}     0.1666667  40                       40  \n",
      "[7]  {five,l,m}  0.1666667  40                       40  \n",
      "[8]  {five,m}    0.1666667  40                       40  \n",
      "[9]  {five,l}    0.1666667  40                       40  \n",
      "[10] {l,m}       0.1666667  40                       40  \n"
     ]
    }
   ],
   "source": [
    "inspect(sort(rules, by = 'support')[1:10])"
   ]
  },
  {
   "cell_type": "code",
   "execution_count": null,
   "metadata": {},
   "outputs": [],
   "source": []
  }
 ],
 "metadata": {
  "kernelspec": {
   "display_name": "R",
   "language": "R",
   "name": "ir"
  },
  "language_info": {
   "codemirror_mode": "r",
   "file_extension": ".r",
   "mimetype": "text/x-r-source",
   "name": "R",
   "pygments_lexer": "r",
   "version": "3.6.1"
  }
 },
 "nbformat": 4,
 "nbformat_minor": 2
}
